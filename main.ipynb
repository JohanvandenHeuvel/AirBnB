{
  "cells": [
    {
      "cell_type": "markdown",
      "source": [
        "# Python notebook for analyzing AirBnB dataset from I2I #"
      ],
      "metadata": {}
    },
    {
      "cell_type": "markdown",
      "source": [
        "### Importing modules ###"
      ],
      "metadata": {}
    },
    {
      "cell_type": "code",
      "source": [
        "import pandas as pd\n",
        "import numpy as np\n",
        "\n",
        "import matplotlib.pylab as plt\n",
        "from plotly.offline import init_notebook_mode, plot, iplot\n",
        "import plotly.graph_objs as go\n",
        "\n",
        "init_notebook_mode(connected=True)\n",
        "# iplot does not work for now so no inline plotting"
      ],
      "outputs": [
        {
          "output_type": "display_data",
          "data": {
            "text/html": [
              "<script type=\"text/javascript\">window.PlotlyConfig = {MathJaxConfig: 'local'};</script><script type=\"text/javascript\">if (window.MathJax) {MathJax.Hub.Config({SVG: {font: \"STIX-Web\"}});}</script><script>requirejs.config({paths: { 'plotly': ['https://cdn.plot.ly/plotly-latest.min']},});if(!window._Plotly) {require(['plotly'],function(plotly) {window._Plotly=plotly;});}</script>"
            ],
            "text/vnd.plotly.v1+html": [
              "<script type=\"text/javascript\">window.PlotlyConfig = {MathJaxConfig: 'local'};</script><script type=\"text/javascript\">if (window.MathJax) {MathJax.Hub.Config({SVG: {font: \"STIX-Web\"}});}</script><script>requirejs.config({paths: { 'plotly': ['https://cdn.plot.ly/plotly-latest.min']},});if(!window._Plotly) {require(['plotly'],function(plotly) {window._Plotly=plotly;});}</script>"
            ]
          },
          "metadata": {}
        }
      ],
      "execution_count": 63,
      "metadata": {}
    },
    {
      "cell_type": "markdown",
      "source": [
        "### Reading in data ###"
      ],
      "metadata": {}
    },
    {
      "cell_type": "markdown",
      "source": [
        "The price per m2 is from: https://maps.amsterdam.nl/woningwaarde/"
      ],
      "metadata": {
        "collapsed": false,
        "outputHidden": false,
        "inputHidden": false
      }
    },
    {
      "cell_type": "code",
      "source": [
        "def average_m2_prices(df, labels):\n",
        "    df_new = df.copy()\n",
        "    for i, label in enumerate(labels):\n",
        "        label_list = str.split(label)\n",
        "        if len(label_list) == 3:\n",
        "            a, _, b = label_list\n",
        "            df_new.loc[df_new.LABEL == label, 'LABEL'] = (int(a)+int(b))/2\n",
        "    return df_new"
      ],
      "outputs": [],
      "execution_count": 64,
      "metadata": {
        "collapsed": false,
        "outputHidden": false,
        "inputHidden": false
      }
    },
    {
      "cell_type": "code",
      "source": [
        "df = pd.read_csv('listings_with_prices.csv')\n",
        "df = df.drop(['name', 'host_name', 'neighbourhood_group', 'latitude', 'longitude', 'Lower', 'Upper', 'SELECTIE', 'FILTER'], axis=1)\n",
        "# There is a very high outlier with a price of 8616 while the next lowest is 1442\n",
        "df = df[df.price != 8616]\n",
        "df = df.sort_values(by=['LABEL'])\n",
        "\n\n\n",
        "ranges = df.LABEL.unique()\n",
        "ranges = [r for r in ranges if str(r) != 'nan']\n",
        "\n",
        "df = average_m2_prices(df, ranges)\n",
        "df['yearly_returns'] = df.price * 365\n",
        "df['monthly_returns'] = df.yearly_returns / 12\n",
        "\ndf.head()"
      ],
      "outputs": [
        {
          "output_type": "execute_result",
          "execution_count": 84,
          "data": {
            "text/plain": [
              "            id   host_id neighbourhood        room_type  price  \\\n",
              "3181   5362748  27800005  Bijlmer-Oost     Private room     45   \n",
              "3236   3651182  17092248  Bijlmer-Oost  Entire home/apt    100   \n",
              "3235  12272272  12308050  Bijlmer-Oost     Private room     65   \n",
              "3234  12735030  52920463  Bijlmer-Oost  Entire home/apt     45   \n",
              "3233  12680964  56894783  Bijlmer-Oost     Private room     30   \n",
              "\n",
              "      minimum_nights  number_of_reviews last_review reviews_per_month  \\\n",
              "3181               1                  8  2016-06-29              0,68   \n",
              "3236               2                 40  2016-06-28              1,92   \n",
              "3235               3                  7  2016-06-10              2,69   \n",
              "3234               3                  1  2016-06-28                 1   \n",
              "3233               1                  3  2016-06-27              1,48   \n",
              "\n",
              "      calculated_host_listings_count  availability_365   LABEL  \\\n",
              "3181                               1               193  2207.5   \n",
              "3236                               1               347  2207.5   \n",
              "3235                               2               355  2207.5   \n",
              "3234                               1                 6  2207.5   \n",
              "3233                               1                 0  2207.5   \n",
              "\n",
              "      yearly_returns  monthly_returns  \n",
              "3181           16425      1368.750000  \n",
              "3236           36500      3041.666667  \n",
              "3235           23725      1977.083333  \n",
              "3234           16425      1368.750000  \n",
              "3233           10950       912.500000  "
            ],
            "text/html": [
              "<div>\n",
              "<style scoped>\n",
              "    .dataframe tbody tr th:only-of-type {\n",
              "        vertical-align: middle;\n",
              "    }\n",
              "\n",
              "    .dataframe tbody tr th {\n",
              "        vertical-align: top;\n",
              "    }\n",
              "\n",
              "    .dataframe thead th {\n",
              "        text-align: right;\n",
              "    }\n",
              "</style>\n",
              "<table border=\"1\" class=\"dataframe\">\n",
              "  <thead>\n",
              "    <tr style=\"text-align: right;\">\n",
              "      <th></th>\n",
              "      <th>id</th>\n",
              "      <th>host_id</th>\n",
              "      <th>neighbourhood</th>\n",
              "      <th>room_type</th>\n",
              "      <th>price</th>\n",
              "      <th>minimum_nights</th>\n",
              "      <th>number_of_reviews</th>\n",
              "      <th>last_review</th>\n",
              "      <th>reviews_per_month</th>\n",
              "      <th>calculated_host_listings_count</th>\n",
              "      <th>availability_365</th>\n",
              "      <th>LABEL</th>\n",
              "      <th>yearly_returns</th>\n",
              "      <th>monthly_returns</th>\n",
              "    </tr>\n",
              "  </thead>\n",
              "  <tbody>\n",
              "    <tr>\n",
              "      <th>3181</th>\n",
              "      <td>5362748</td>\n",
              "      <td>27800005</td>\n",
              "      <td>Bijlmer-Oost</td>\n",
              "      <td>Private room</td>\n",
              "      <td>45</td>\n",
              "      <td>1</td>\n",
              "      <td>8</td>\n",
              "      <td>2016-06-29</td>\n",
              "      <td>0,68</td>\n",
              "      <td>1</td>\n",
              "      <td>193</td>\n",
              "      <td>2207.5</td>\n",
              "      <td>16425</td>\n",
              "      <td>1368.750000</td>\n",
              "    </tr>\n",
              "    <tr>\n",
              "      <th>3236</th>\n",
              "      <td>3651182</td>\n",
              "      <td>17092248</td>\n",
              "      <td>Bijlmer-Oost</td>\n",
              "      <td>Entire home/apt</td>\n",
              "      <td>100</td>\n",
              "      <td>2</td>\n",
              "      <td>40</td>\n",
              "      <td>2016-06-28</td>\n",
              "      <td>1,92</td>\n",
              "      <td>1</td>\n",
              "      <td>347</td>\n",
              "      <td>2207.5</td>\n",
              "      <td>36500</td>\n",
              "      <td>3041.666667</td>\n",
              "    </tr>\n",
              "    <tr>\n",
              "      <th>3235</th>\n",
              "      <td>12272272</td>\n",
              "      <td>12308050</td>\n",
              "      <td>Bijlmer-Oost</td>\n",
              "      <td>Private room</td>\n",
              "      <td>65</td>\n",
              "      <td>3</td>\n",
              "      <td>7</td>\n",
              "      <td>2016-06-10</td>\n",
              "      <td>2,69</td>\n",
              "      <td>2</td>\n",
              "      <td>355</td>\n",
              "      <td>2207.5</td>\n",
              "      <td>23725</td>\n",
              "      <td>1977.083333</td>\n",
              "    </tr>\n",
              "    <tr>\n",
              "      <th>3234</th>\n",
              "      <td>12735030</td>\n",
              "      <td>52920463</td>\n",
              "      <td>Bijlmer-Oost</td>\n",
              "      <td>Entire home/apt</td>\n",
              "      <td>45</td>\n",
              "      <td>3</td>\n",
              "      <td>1</td>\n",
              "      <td>2016-06-28</td>\n",
              "      <td>1</td>\n",
              "      <td>1</td>\n",
              "      <td>6</td>\n",
              "      <td>2207.5</td>\n",
              "      <td>16425</td>\n",
              "      <td>1368.750000</td>\n",
              "    </tr>\n",
              "    <tr>\n",
              "      <th>3233</th>\n",
              "      <td>12680964</td>\n",
              "      <td>56894783</td>\n",
              "      <td>Bijlmer-Oost</td>\n",
              "      <td>Private room</td>\n",
              "      <td>30</td>\n",
              "      <td>1</td>\n",
              "      <td>3</td>\n",
              "      <td>2016-06-27</td>\n",
              "      <td>1,48</td>\n",
              "      <td>1</td>\n",
              "      <td>0</td>\n",
              "      <td>2207.5</td>\n",
              "      <td>10950</td>\n",
              "      <td>912.500000</td>\n",
              "    </tr>\n",
              "  </tbody>\n",
              "</table>\n",
              "</div>"
            ]
          },
          "metadata": {}
        }
      ],
      "execution_count": 84,
      "metadata": {}
    },
    {
      "cell_type": "markdown",
      "source": [
        "## Analyzing financial stuff ##"
      ],
      "metadata": {}
    },
    {
      "cell_type": "markdown",
      "source": [
        "In order to anylyze the Return On Investment (ROI) we need two measures:\n",
        "\n",
        "1) the Investment. We have the m^2 price, however we do not know how big the apparments are. Also we have to include other costs like elektricity and gas. \n",
        "\n2) the Return. We have the price for 1 night, we assume that the houses are rented permanentely."
      ],
      "metadata": {}
    },
    {
      "cell_type": "code",
      "source": [
        "labels = df.LABEL.unique()\n",
        "values = [len(df[df.LABEL == label])  for label in labels]\n",
        "    \n",
        "trace1 = go.Bar(\n",
        "    x=ranges, \n",
        "    y=values, \n",
        "    name='Boxplot of location cost')\n",
        "\n",
        "layout = go.Layout(\n",
        "    title='Locations costs', \n",
        "    xaxis=dict(title='location cost'), \n",
        "    yaxis=dict(title='frequency'))\n",
        "\n",
        "data = [trace1]\n",
        "figure = go.Figure(data=data, layout=layout)\n",
        "\nplot(figure, filename='barplot_cost.html')"
      ],
      "outputs": [
        {
          "output_type": "execute_result",
          "execution_count": 23,
          "data": {
            "text/plain": [
              "'file://C:\\\\Users\\\\Johan van den Heuvel\\\\Documents\\\\AirBnB\\\\barplot_cost.html'"
            ]
          },
          "metadata": {}
        }
      ],
      "execution_count": 23,
      "metadata": {}
    },
    {
      "cell_type": "markdown",
      "source": [
        "We want to see if we can group the prices by the labels, i.e. how much they cost. \n",
        "\nSeems to work but need statistical test to make sure it is a significant difference."
      ],
      "metadata": {}
    },
    {
      "cell_type": "code",
      "source": [
        "df_grouped_by_label = [df.loc[df.LABEL == label] for label in labels]\n",
        "\n",
        "for i, label in enumerate(labels):\n",
        "    df_temp = df_grouped_by_label[i]\n",
        "    \n",
        "    if isinstance(label, float):\n",
        "        y = df_temp.price\n",
        "        mean = np.full(len(df_temp), np.mean(df_temp.price))\n",
        "        x = np.arange(len(df_temp))\n",
        "\n",
        "        trace = go.Box(\n",
        "            y=y,\n",
        "            name = 'Box Plot',\n",
        "            boxpoints='all',\n",
        "            jitter=0.3\n",
        "        )\n",
        "\n",
        "        layout = go.Layout(\n",
        "            title='prices for {}'.format(label), \n",
        "            xaxis=dict(title='id'), \n",
        "            yaxis=dict(title='price'))\n",
        "\n",
        "        data = [trace]\n",
        "        figure = go.Figure(data=data, layout=layout)\n",
        "\n        plot(figure, filename='price_{}.html'.format(label))"
      ],
      "outputs": [],
      "execution_count": 5,
      "metadata": {}
    },
    {
      "cell_type": "markdown",
      "source": [
        "Above we added the avg price per m2 for houses in the corresponding area's. Now we need some measure for the expected size of the appartment.\n",
        "\nExpected size of house are based on numbers from CBS: https://www.cbs.nl/nl-nl/nieuws/2018/22/amsterdamse-huishoudens-hebben-minder-woonoppervlakte"
      ],
      "metadata": {}
    },
    {
      "cell_type": "code",
      "source": [
        "for i, label in enumerate(labels):\n",
        "    df_temp = df_grouped_by_label[i]\n",
        "    \n",
        "    if isinstance(label, float):\n",
        "        ROI = df_temp.yearly_returns / (df_temp.LABEL * 50)\n",
        "        # TODO figure out the correct m2 size\n",
        "        # TODO add other monthly costs like elektrictity\n",
        "        ROI = ROI.sort_values()\n",
        "        ROI = ROI.reset_index(drop=True)\n",
        "        \n",
        "        ROI_2 = df_temp.yearly_returns / (df_temp.LABEL * 50 + 200*12)\n",
        "        ROI_2 = ROI_2.sort_values()\n",
        "        ROI_2 = ROI_2.reset_index(drop=True)\n",
        "\n",
        "        trace1 = go.Scatter(\n",
        "            y=ROI,\n",
        "            x=ROI.index,\n",
        "            name = 'ROI plot',\n",
        "            mode = 'markers'\n",
        "        )\n",
        "        \n",
        "        trace2 = go.Scatter(\n",
        "            y=ROI_2,\n",
        "            x=ROI.index,\n",
        "            name = 'ROI-2 plot',\n",
        "            mode = 'markers'\n",
        "        )\n",
        "\n",
        "        layout = go.Layout(\n",
        "            title='ROI for {}'.format(label), \n",
        "            xaxis=dict(title='id'), \n",
        "            yaxis=dict(title='price'))\n",
        "\n",
        "        data = [trace1]\n",
        "        figure = go.Figure(data=data, layout=layout)\n",
        "\n        plot(figure, filename='ROI_{}.html'.format(label))"
      ],
      "outputs": [],
      "execution_count": 6,
      "metadata": {
        "collapsed": false,
        "outputHidden": false,
        "inputHidden": false
      }
    },
    {
      "cell_type": "markdown",
      "source": [
        "## Analyzing different groups (room types) ##"
      ],
      "metadata": {}
    },
    {
      "cell_type": "code",
      "source": [
        "groups = df.room_type.unique()\n",
        "values = [len(df[df.room_type == group])  for group in groups]\n",
        "\n",
        "print(groups)\n",
        "\n\n",
        "trace1 = go.Bar(\n",
        "    x=groups, \n",
        "    y=values, \n",
        "    name='Barplot of location types')\n",
        "\n",
        "layout = go.Layout(\n",
        "    title='Location types', \n",
        "    xaxis=dict(title='locations'), \n",
        "    yaxis=dict(title='frequency'))\n",
        "\n",
        "data = [trace1]\n",
        "figure = go.Figure(data=data, layout=layout)\n",
        "\nplot(figure, filename='Location types.html')"
      ],
      "outputs": [
        {
          "output_type": "stream",
          "name": "stdout",
          "text": [
            "['Shared room' 'Private room' 'Entire home/apt']\n"
          ]
        },
        {
          "output_type": "execute_result",
          "execution_count": 76,
          "data": {
            "text/plain": [
              "'file://C:\\\\Users\\\\Johan van den Heuvel\\\\Documents\\\\AirBnB\\\\Location types.html'"
            ]
          },
          "metadata": {}
        }
      ],
      "execution_count": 76,
      "metadata": {}
    },
    {
      "cell_type": "code",
      "source": [
        "df_privateroom = df.loc[df.room_type == 'Private room']\n",
        "\n",
        "maximum = 972\n",
        "\n",
        "x = np.arange(len(df_privateroom))\n",
        "y = df_privateroom.monthly_returns\n",
        "\n",
        "trace1 = go.Scatter(\n",
        "    x=x, \n",
        "    y=y, \n",
        "    name='private room prices',\n",
        "    mode='markers')\n",
        "\n",
        "# https://www.huurcommissie.nl/fileadmin/afbeeldingen/Downloads/Huurprijstabellen/Maximale_huurprijsgrenzen_voor_onzelfstandige_woonruimten_per_1_juli_2016_01.pdf\n",
        "y = np.full(len(df_privateroom),maximum)\n",
        "\n",
        "trace2 = go.Scatter(\n",
        "    x=x, \n",
        "    y=y, \n",
        "    name='maximum price for 750 points')\n",
        "\n",
        "layout = go.Layout(\n",
        "    title='private room prices and maximum price', \n",
        "    xaxis=dict(title='id'), \n",
        "    yaxis=dict(title='monthly price'))\n",
        "\n",
        "data = [trace1, trace2]\n",
        "figure = go.Figure(data=data, layout=layout)\n",
        "\n",
        "plot(figure, filename='private room prices and maximum price.html')\n",
        "\nprint(sum(df_privateroom.monthly_returns - maximum))"
      ],
      "outputs": [
        {
          "output_type": "stream",
          "name": "stdout",
          "text": [
            "3741747.8333333246\n"
          ]
        }
      ],
      "execution_count": 94,
      "metadata": {
        "collapsed": false,
        "outputHidden": false,
        "inputHidden": false
      }
    },
    {
      "cell_type": "code",
      "source": [
        "df_entirehome = df.loc[df.room_type == 'Entire home/apt']\n",
        "\n",
        "maximum = 1250\n",
        "\n",
        "x = np.arange(len(df_entirehome))\n",
        "y = df_entirehome.monthly_returns\n",
        "\n",
        "# https://www.huurcommissie.nl/fileadmin/afbeeldingen/Downloads/Huurprijstabellen/Maximale_huurprijsgrenzen_voor_zelfstandige_woonruimten_per_1_juli_2016_01.pdf\n",
        "trace1 = go.Scatter(\n",
        "    x=x, \n",
        "    y=y, \n",
        "    name='full home prices',\n",
        "    mode='markers')\n",
        "\n",
        "# https://www.huurcommissie.nl/fileadmin/afbeeldingen/Downloads/Huurprijstabellen/Maximale_huurprijsgrenzen_voor_onzelfstandige_woonruimten_per_1_juli_2016_01.pdf\n",
        "y = np.full(len(df_entirehome),maximum)\n",
        "\n",
        "trace2 = go.Scatter(\n",
        "    x=x, \n",
        "    y=y, \n",
        "    name='maximum price for 250 points')\n",
        "\n",
        "layout = go.Layout(\n",
        "    title='full home prices and maximum price', \n",
        "    xaxis=dict(title='id'), \n",
        "    yaxis=dict(title='monthly price'))\n",
        "\n",
        "data = [trace1, trace2]\n",
        "figure = go.Figure(data=data, layout=layout)\n",
        "\n",
        "plot(figure, filename='full home prices and maximum price.html')\n",
        "\nprint(sum(df_entirehome.monthly_returns - maximum))"
      ],
      "outputs": [
        {
          "output_type": "stream",
          "name": "stdout",
          "text": [
            "35312931.66666673\n"
          ]
        }
      ],
      "execution_count": 95,
      "metadata": {
        "collapsed": false,
        "outputHidden": false,
        "inputHidden": false
      }
    },
    {
      "cell_type": "markdown",
      "source": [
        "## Analyzing different groups (neighbourhood) ##"
      ],
      "metadata": {
        "collapsed": false,
        "outputHidden": false,
        "inputHidden": false
      }
    },
    {
      "cell_type": "code",
      "source": [
        "neighbourhoods = df.neighbourhood.unique()\n",
        "values = [len(df[df.neighbourhood == neighbourhood])  for neighbourhood in neighbourhoods]\n",
        "\n",
        "print(neighbourhoods)\n",
        "\n",
        "trace1 = go.Bar(\n",
        "    x=neighbourhoods, \n",
        "    y=values, \n",
        "    name='Barplot of neighbourhoods')\n",
        "\n",
        "layout = go.Layout(\n",
        "    title='Neighbourhoods', \n",
        "    xaxis=dict(title='neighbourhoods'), \n",
        "    yaxis=dict(title='frequency'))\n",
        "\n",
        "data = [trace1]\n",
        "figure = go.Figure(data=data, layout=layout)\n",
        "\nplot(figure, filename='Neighbourhoods.html')"
      ],
      "outputs": [
        {
          "output_type": "stream",
          "name": "stdout",
          "text": [
            "['Bijlmer-Oost' 'Gaasperdam - Driemond' 'Bijlmer-Centrum'\n",
            " 'Geuzenveld - Slotermeer' 'Noord-West' 'De Aker - Nieuw Sloten' 'Osdorp'\n",
            " 'Bos en Lommer' 'Noord-Oost' 'Slotervaart' 'IJburg - Zeeburgereiland'\n",
            " 'Watergraafsmeer' 'Buitenveldert - Zuidas' 'De Pijp - Rivierenbuurt'\n",
            " 'Oud-Noord' 'Oostelijk Havengebied - Indische Buurt' 'Centrum-Oost'\n",
            " 'Centrum-West' 'Oud-Oost' 'De Baarsjes - Oud-West' 'Westerpark' 'Zuid']\n"
          ]
        },
        {
          "output_type": "execute_result",
          "execution_count": 96,
          "data": {
            "text/plain": [
              "'file://C:\\\\Users\\\\Johan van den Heuvel\\\\Documents\\\\AirBnB\\\\Neighbourhoods.html'"
            ]
          },
          "metadata": {}
        }
      ],
      "execution_count": 96,
      "metadata": {
        "collapsed": false,
        "outputHidden": false,
        "inputHidden": false
      }
    },
    {
      "cell_type": "code",
      "source": [
        "neighbourhoods = df.neighbourhood.unique()\n",
        "df_grouped_by_neighbourhoods = [df.loc[df.neighbourhood == neighbourhood] for neighbourhood in neighbourhoods]\n",
        "\n",
        "for i, neighbourhood in enumerate(neighbourhoods):\n",
        "    df_temp = df_grouped_by_neighbourhoods[i]\n",
        "    \n",
        "    if isinstance(label, float):\n",
        "        y = df_temp.price\n",
        "        mean = np.full(len(df_temp), np.mean(df_temp.price))\n",
        "        x = np.arange(len(df_temp))\n",
        "\n",
        "        trace = go.Box(\n",
        "            y=y,\n",
        "            name = 'Box Plot',\n",
        "            boxpoints='all',\n",
        "            jitter=0.3\n",
        "        )\n",
        "\n",
        "        layout = go.Layout(\n",
        "            title='prices for {}'.format(label), \n",
        "            xaxis=dict(title='id'), \n",
        "            yaxis=dict(title='price'))\n",
        "\n",
        "        data = [trace]\n",
        "        figure = go.Figure(data=data, layout=layout)\n",
        "\n        plot(figure, filename='price_{}.html'.format(label))"
      ],
      "outputs": [],
      "execution_count": null,
      "metadata": {
        "collapsed": false,
        "outputHidden": false,
        "inputHidden": false
      }
    },
    {
      "cell_type": "markdown",
      "source": [
        "## Rules and Regulations ##"
      ],
      "metadata": {
        "collapsed": false,
        "outputHidden": false,
        "inputHidden": false
      }
    },
    {
      "cell_type": "markdown",
      "source": [
        "There are new rules since 2017, however because the dataset is from 2016 these do not apply. These rules state that you can only rent for 60 days a year, in 2019 it went down to 30 days a year. Also since 1th of Oktober 2017 you have to report when renters come. \n",
        "\n",
        "To figure out how many points a house has is not really doable with this data. The amount of uncertainty would be huge.\n",
        "\nIn conclusion, I cannot really find rules and regulations to check."
      ],
      "metadata": {
        "collapsed": false,
        "outputHidden": false,
        "inputHidden": false
      }
    },
    {
      "cell_type": "markdown",
      "source": [
        "## Analyzing amount of days rented ##"
      ],
      "metadata": {
        "collapsed": false,
        "outputHidden": false,
        "inputHidden": false
      }
    },
    {
      "cell_type": "markdown",
      "source": [
        "Using the reviews, minimum nights, and availability we might be able to make a guess how much a certain house is rented for per year."
      ],
      "metadata": {
        "collapsed": false,
        "outputHidden": false,
        "inputHidden": false
      }
    },
    {
      "cell_type": "code",
      "source": [
        "df.head()"
      ],
      "outputs": [
        {
          "output_type": "execute_result",
          "execution_count": 8,
          "data": {
            "text/plain": [
              "            id   host_id neighbourhood        room_type  price  \\\n",
              "3181   5362748  27800005  Bijlmer-Oost     Private room     45   \n",
              "3236   3651182  17092248  Bijlmer-Oost  Entire home/apt    100   \n",
              "3235  12272272  12308050  Bijlmer-Oost     Private room     65   \n",
              "3234  12735030  52920463  Bijlmer-Oost  Entire home/apt     45   \n",
              "3233  12680964  56894783  Bijlmer-Oost     Private room     30   \n",
              "\n",
              "      minimum_nights  number_of_reviews last_review reviews_per_month  \\\n",
              "3181               1                  8  2016-06-29              0,68   \n",
              "3236               2                 40  2016-06-28              1,92   \n",
              "3235               3                  7  2016-06-10              2,69   \n",
              "3234               3                  1  2016-06-28                 1   \n",
              "3233               1                  3  2016-06-27              1,48   \n",
              "\n",
              "      calculated_host_listings_count  availability_365   LABEL  yearly_returns  \n",
              "3181                               1               193  2207.5           16425  \n",
              "3236                               1               347  2207.5           36500  \n",
              "3235                               2               355  2207.5           23725  \n",
              "3234                               1                 6  2207.5           16425  \n",
              "3233                               1                 0  2207.5           10950  "
            ],
            "text/html": [
              "<div>\n",
              "<style scoped>\n",
              "    .dataframe tbody tr th:only-of-type {\n",
              "        vertical-align: middle;\n",
              "    }\n",
              "\n",
              "    .dataframe tbody tr th {\n",
              "        vertical-align: top;\n",
              "    }\n",
              "\n",
              "    .dataframe thead th {\n",
              "        text-align: right;\n",
              "    }\n",
              "</style>\n",
              "<table border=\"1\" class=\"dataframe\">\n",
              "  <thead>\n",
              "    <tr style=\"text-align: right;\">\n",
              "      <th></th>\n",
              "      <th>id</th>\n",
              "      <th>host_id</th>\n",
              "      <th>neighbourhood</th>\n",
              "      <th>room_type</th>\n",
              "      <th>price</th>\n",
              "      <th>minimum_nights</th>\n",
              "      <th>number_of_reviews</th>\n",
              "      <th>last_review</th>\n",
              "      <th>reviews_per_month</th>\n",
              "      <th>calculated_host_listings_count</th>\n",
              "      <th>availability_365</th>\n",
              "      <th>LABEL</th>\n",
              "      <th>yearly_returns</th>\n",
              "    </tr>\n",
              "  </thead>\n",
              "  <tbody>\n",
              "    <tr>\n",
              "      <th>3181</th>\n",
              "      <td>5362748</td>\n",
              "      <td>27800005</td>\n",
              "      <td>Bijlmer-Oost</td>\n",
              "      <td>Private room</td>\n",
              "      <td>45</td>\n",
              "      <td>1</td>\n",
              "      <td>8</td>\n",
              "      <td>2016-06-29</td>\n",
              "      <td>0,68</td>\n",
              "      <td>1</td>\n",
              "      <td>193</td>\n",
              "      <td>2207.5</td>\n",
              "      <td>16425</td>\n",
              "    </tr>\n",
              "    <tr>\n",
              "      <th>3236</th>\n",
              "      <td>3651182</td>\n",
              "      <td>17092248</td>\n",
              "      <td>Bijlmer-Oost</td>\n",
              "      <td>Entire home/apt</td>\n",
              "      <td>100</td>\n",
              "      <td>2</td>\n",
              "      <td>40</td>\n",
              "      <td>2016-06-28</td>\n",
              "      <td>1,92</td>\n",
              "      <td>1</td>\n",
              "      <td>347</td>\n",
              "      <td>2207.5</td>\n",
              "      <td>36500</td>\n",
              "    </tr>\n",
              "    <tr>\n",
              "      <th>3235</th>\n",
              "      <td>12272272</td>\n",
              "      <td>12308050</td>\n",
              "      <td>Bijlmer-Oost</td>\n",
              "      <td>Private room</td>\n",
              "      <td>65</td>\n",
              "      <td>3</td>\n",
              "      <td>7</td>\n",
              "      <td>2016-06-10</td>\n",
              "      <td>2,69</td>\n",
              "      <td>2</td>\n",
              "      <td>355</td>\n",
              "      <td>2207.5</td>\n",
              "      <td>23725</td>\n",
              "    </tr>\n",
              "    <tr>\n",
              "      <th>3234</th>\n",
              "      <td>12735030</td>\n",
              "      <td>52920463</td>\n",
              "      <td>Bijlmer-Oost</td>\n",
              "      <td>Entire home/apt</td>\n",
              "      <td>45</td>\n",
              "      <td>3</td>\n",
              "      <td>1</td>\n",
              "      <td>2016-06-28</td>\n",
              "      <td>1</td>\n",
              "      <td>1</td>\n",
              "      <td>6</td>\n",
              "      <td>2207.5</td>\n",
              "      <td>16425</td>\n",
              "    </tr>\n",
              "    <tr>\n",
              "      <th>3233</th>\n",
              "      <td>12680964</td>\n",
              "      <td>56894783</td>\n",
              "      <td>Bijlmer-Oost</td>\n",
              "      <td>Private room</td>\n",
              "      <td>30</td>\n",
              "      <td>1</td>\n",
              "      <td>3</td>\n",
              "      <td>2016-06-27</td>\n",
              "      <td>1,48</td>\n",
              "      <td>1</td>\n",
              "      <td>0</td>\n",
              "      <td>2207.5</td>\n",
              "      <td>10950</td>\n",
              "    </tr>\n",
              "  </tbody>\n",
              "</table>\n",
              "</div>"
            ]
          },
          "metadata": {}
        }
      ],
      "execution_count": 8,
      "metadata": {
        "collapsed": false,
        "outputHidden": false,
        "inputHidden": false
      }
    },
    {
      "cell_type": "code",
      "source": [
        "df_days_rented = df.drop(['id', 'host_id', 'yearly_returns'], axis=1)\n",
        "df_days_rented.head()"
      ],
      "outputs": [
        {
          "output_type": "execute_result",
          "execution_count": 9,
          "data": {
            "text/plain": [
              "     neighbourhood        room_type  price  minimum_nights  number_of_reviews  \\\n",
              "3181  Bijlmer-Oost     Private room     45               1                  8   \n",
              "3236  Bijlmer-Oost  Entire home/apt    100               2                 40   \n",
              "3235  Bijlmer-Oost     Private room     65               3                  7   \n",
              "3234  Bijlmer-Oost  Entire home/apt     45               3                  1   \n",
              "3233  Bijlmer-Oost     Private room     30               1                  3   \n",
              "\n",
              "     last_review reviews_per_month  calculated_host_listings_count  \\\n",
              "3181  2016-06-29              0,68                               1   \n",
              "3236  2016-06-28              1,92                               1   \n",
              "3235  2016-06-10              2,69                               2   \n",
              "3234  2016-06-28                 1                               1   \n",
              "3233  2016-06-27              1,48                               1   \n",
              "\n",
              "      availability_365   LABEL  \n",
              "3181               193  2207.5  \n",
              "3236               347  2207.5  \n",
              "3235               355  2207.5  \n",
              "3234                 6  2207.5  \n",
              "3233                 0  2207.5  "
            ],
            "text/html": [
              "<div>\n",
              "<style scoped>\n",
              "    .dataframe tbody tr th:only-of-type {\n",
              "        vertical-align: middle;\n",
              "    }\n",
              "\n",
              "    .dataframe tbody tr th {\n",
              "        vertical-align: top;\n",
              "    }\n",
              "\n",
              "    .dataframe thead th {\n",
              "        text-align: right;\n",
              "    }\n",
              "</style>\n",
              "<table border=\"1\" class=\"dataframe\">\n",
              "  <thead>\n",
              "    <tr style=\"text-align: right;\">\n",
              "      <th></th>\n",
              "      <th>neighbourhood</th>\n",
              "      <th>room_type</th>\n",
              "      <th>price</th>\n",
              "      <th>minimum_nights</th>\n",
              "      <th>number_of_reviews</th>\n",
              "      <th>last_review</th>\n",
              "      <th>reviews_per_month</th>\n",
              "      <th>calculated_host_listings_count</th>\n",
              "      <th>availability_365</th>\n",
              "      <th>LABEL</th>\n",
              "    </tr>\n",
              "  </thead>\n",
              "  <tbody>\n",
              "    <tr>\n",
              "      <th>3181</th>\n",
              "      <td>Bijlmer-Oost</td>\n",
              "      <td>Private room</td>\n",
              "      <td>45</td>\n",
              "      <td>1</td>\n",
              "      <td>8</td>\n",
              "      <td>2016-06-29</td>\n",
              "      <td>0,68</td>\n",
              "      <td>1</td>\n",
              "      <td>193</td>\n",
              "      <td>2207.5</td>\n",
              "    </tr>\n",
              "    <tr>\n",
              "      <th>3236</th>\n",
              "      <td>Bijlmer-Oost</td>\n",
              "      <td>Entire home/apt</td>\n",
              "      <td>100</td>\n",
              "      <td>2</td>\n",
              "      <td>40</td>\n",
              "      <td>2016-06-28</td>\n",
              "      <td>1,92</td>\n",
              "      <td>1</td>\n",
              "      <td>347</td>\n",
              "      <td>2207.5</td>\n",
              "    </tr>\n",
              "    <tr>\n",
              "      <th>3235</th>\n",
              "      <td>Bijlmer-Oost</td>\n",
              "      <td>Private room</td>\n",
              "      <td>65</td>\n",
              "      <td>3</td>\n",
              "      <td>7</td>\n",
              "      <td>2016-06-10</td>\n",
              "      <td>2,69</td>\n",
              "      <td>2</td>\n",
              "      <td>355</td>\n",
              "      <td>2207.5</td>\n",
              "    </tr>\n",
              "    <tr>\n",
              "      <th>3234</th>\n",
              "      <td>Bijlmer-Oost</td>\n",
              "      <td>Entire home/apt</td>\n",
              "      <td>45</td>\n",
              "      <td>3</td>\n",
              "      <td>1</td>\n",
              "      <td>2016-06-28</td>\n",
              "      <td>1</td>\n",
              "      <td>1</td>\n",
              "      <td>6</td>\n",
              "      <td>2207.5</td>\n",
              "    </tr>\n",
              "    <tr>\n",
              "      <th>3233</th>\n",
              "      <td>Bijlmer-Oost</td>\n",
              "      <td>Private room</td>\n",
              "      <td>30</td>\n",
              "      <td>1</td>\n",
              "      <td>3</td>\n",
              "      <td>2016-06-27</td>\n",
              "      <td>1,48</td>\n",
              "      <td>1</td>\n",
              "      <td>0</td>\n",
              "      <td>2207.5</td>\n",
              "    </tr>\n",
              "  </tbody>\n",
              "</table>\n",
              "</div>"
            ]
          },
          "metadata": {}
        }
      ],
      "execution_count": 9,
      "metadata": {
        "collapsed": false,
        "outputHidden": false,
        "inputHidden": false
      }
    },
    {
      "cell_type": "code",
      "source": [
        "labels = df.reviews_per_month\n",
        "values = df.price\n",
        "\n",
        "df = df.sort_values(by=['reviews_per_month'])\n",
        "\n",
        "trace1 = go.Bar(\n",
        "    x=values, \n",
        "    y=labels, \n",
        "    name='Boxplot of location cost')\n",
        "\n",
        "layout = go.Layout(\n",
        "    title='Reviews vs Price', \n",
        "    yaxis=dict(title='reviews per month'), \n",
        "    xaxis=dict(title='price per night'))\n",
        "\n",
        "data = [trace1]\n",
        "figure = go.Figure(data=data, layout=layout)\n",
        "\nplot(figure, filename='ReviewsPrice.html')"
      ],
      "outputs": [
        {
          "output_type": "execute_result",
          "execution_count": 67,
          "data": {
            "text/plain": [
              "'file://C:\\\\Users\\\\Johan van den Heuvel\\\\Documents\\\\AirBnB\\\\ReviewsPrice.html'"
            ]
          },
          "metadata": {}
        }
      ],
      "execution_count": 67,
      "metadata": {
        "collapsed": false,
        "outputHidden": false,
        "inputHidden": false
      }
    },
    {
      "cell_type": "code",
      "source": [
        "reviews = df.reviews_per_month.str.replace(',', '.')\n",
        "reviews = reviews.astype(float)\n",
        "\n",
        "labels = df.price * reviews\n",
        "# labels = labels.sort_values()\n",
        "labels = labels.fillna(0)\n",
        "values = df.price\n",
        "\n",
        "df = df.sort_values(by=['price'])\n",
        "\n",
        "trace1 = go.Bar(\n",
        "    x=values, \n",
        "    y=labels, \n",
        "    name='Boxplot of location cost'\n",
        ")\n",
        "\n",
        "layout = go.Layout(\n",
        "    title='Reviews vs Price', \n",
        "    yaxis=dict(title='price / reviews_per_month'), \n",
        "    xaxis=dict(title='price per night'))\n",
        "\n",
        "data = [trace1]\n",
        "figure = go.Figure(data=data, layout=layout)\n",
        "\nplot(figure, filename='ReviewsPrice.html')"
      ],
      "outputs": [
        {
          "output_type": "execute_result",
          "execution_count": 72,
          "data": {
            "text/plain": [
              "'file://C:\\\\Users\\\\Johan van den Heuvel\\\\Documents\\\\AirBnB\\\\ReviewsPrice.html'"
            ]
          },
          "metadata": {}
        }
      ],
      "execution_count": 72,
      "metadata": {
        "collapsed": false,
        "outputHidden": false,
        "inputHidden": false
      }
    }
  ],
  "metadata": {
    "kernelspec": {
      "name": "python3",
      "language": "python",
      "display_name": "Python 3"
    },
    "language_info": {
      "name": "python",
      "version": "3.6.5",
      "mimetype": "text/x-python",
      "codemirror_mode": {
        "name": "ipython",
        "version": 3
      },
      "pygments_lexer": "ipython3",
      "nbconvert_exporter": "python",
      "file_extension": ".py"
    },
    "kernel_info": {
      "name": "python3"
    },
    "nteract": {
      "version": "0.12.3"
    }
  },
  "nbformat": 4,
  "nbformat_minor": 2
}